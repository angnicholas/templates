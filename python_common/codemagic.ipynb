{
 "cells": [
  {
   "cell_type": "code",
   "execution_count": 1,
   "metadata": {},
   "outputs": [],
   "source": [
    "%load_ext autoreload\n",
    "%autoreload 2\n",
    "\n",
    "#Autoreloads modules"
   ]
  },
  {
   "cell_type": "markdown",
   "metadata": {},
   "source": [
    "# Profiling Code"
   ]
  },
  {
   "cell_type": "code",
   "execution_count": 2,
   "metadata": {},
   "outputs": [
    {
     "name": "stdout",
     "output_type": "stream",
     "text": [
      "         10 function calls in 0.091 seconds\n",
      "\n",
      "   Ordered by: standard name\n",
      "\n",
      "   ncalls  tottime  percall  cumtime  percall filename:lineno(function)\n",
      "        1    0.000    0.000    0.091    0.091 3648756088.py:11(combined)\n",
      "        3    0.083    0.028    0.083    0.028 3648756088.py:3(slowFunction)\n",
      "        3    0.007    0.002    0.007    0.002 3648756088.py:7(fastFunction)\n",
      "        1    0.000    0.000    0.091    0.091 <string>:1(<module>)\n",
      "        1    0.000    0.000    0.091    0.091 {built-in method builtins.exec}\n",
      "        1    0.000    0.000    0.000    0.000 {method 'disable' of '_lsprof.Profiler' objects}\n",
      "\n",
      "\n"
     ]
    }
   ],
   "source": [
    "import cProfile\n",
    "\n",
    "def slowFunction():\n",
    "    for i in range(1000000):\n",
    "        j = i + 1\n",
    "\n",
    "def fastFunction():\n",
    "    for i in range(100000):\n",
    "        j = i + 1\n",
    "\n",
    "def combined():\n",
    "    for i in range(3):\n",
    "        slowFunction()\n",
    "        fastFunction()\n",
    "\n",
    "cProfile.run('combined()')"
   ]
  }
 ],
 "metadata": {
  "interpreter": {
   "hash": "e7370f93d1d0cde622a1f8e1c04877d8463912d04d973331ad4851f04de6915a"
  },
  "kernelspec": {
   "display_name": "Python 3.8.10 64-bit",
   "language": "python",
   "name": "python3"
  },
  "language_info": {
   "codemirror_mode": {
    "name": "ipython",
    "version": 3
   },
   "file_extension": ".py",
   "mimetype": "text/x-python",
   "name": "python",
   "nbconvert_exporter": "python",
   "pygments_lexer": "ipython3",
   "version": "3.8.10"
  },
  "orig_nbformat": 4
 },
 "nbformat": 4,
 "nbformat_minor": 2
}
