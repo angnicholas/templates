{
 "cells": [
  {
   "cell_type": "code",
   "execution_count": 2,
   "metadata": {},
   "outputs": [],
   "source": [
    "import cv2\n",
    "import matplotlib.pyplot as plt"
   ]
  },
  {
   "cell_type": "code",
   "execution_count": null,
   "metadata": {},
   "outputs": [],
   "source": [
    "def real_imshow(*images):\n",
    "\tfig = plt.figure(figsize = (30, 30 * len(images)))\n",
    "\tfor i, img in enumerate(images, start=1):\n",
    "\t\tax = fig.add_subplot(len(images), 1, i)\n",
    "\t\tax.imshow(cv2.cvtColor(img, cv2.COLOR_BGR2RGB))\n",
    "\n",
    "def plot_contours(img, contours):\n",
    "\tcontour_img = img.copy()\n",
    "\tcv2.drawContours(contour_img, contours, -1, (255,0,0), 3)\n",
    "\treal_imshow(contour_img)\n",
    "\n",
    "def draw_lines_on_img(img_orig, x_lines, y_lines):\n",
    "\timg = img_orig.copy()\n",
    "\t\n",
    "\theight, width = img.shape[0:2]\n",
    "\n",
    "\tfor x in x_lines:\n",
    "\t\timg = cv2.line(img, (x, 0), (x, height), (255, 0, 0), 3)\n",
    "\tfor y in y_lines:\n",
    "\t\timg = cv2.line(img, (0, y), (width, y), (255, 0, 0), 3)\n",
    "\treal_imshow(img)"
   ]
  }
 ],
 "metadata": {
  "interpreter": {
   "hash": "3bdc155a484cdb4072f4b47901f66df9810d8fe26a7e60a2c8923800e12bca43"
  },
  "kernelspec": {
   "display_name": "Python 3.8.10 64-bit ('magic': pyenv)",
   "language": "python",
   "name": "python3"
  },
  "language_info": {
   "codemirror_mode": {
    "name": "ipython",
    "version": 3
   },
   "file_extension": ".py",
   "mimetype": "text/x-python",
   "name": "python",
   "nbconvert_exporter": "python",
   "pygments_lexer": "ipython3",
   "version": "3.8.10"
  },
  "orig_nbformat": 4
 },
 "nbformat": 4,
 "nbformat_minor": 2
}
